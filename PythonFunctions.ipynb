{
 "cells": [
  {
   "cell_type": "markdown",
   "metadata": {},
   "source": [
    "# CSCI 3360 Homework 1"
   ]
  },
  {
   "cell_type": "markdown",
   "metadata": {},
   "source": [
    "## Instructions"
   ]
  },
  {
   "cell_type": "markdown",
   "metadata": {},
   "source": [
    "The first homework assignment is designed to get yourself familiar with the Python programming lanaguage. You are to complete this assignment individually, but you may do general searches on the Internet if you are unsure how to complete a certain task using Python (be sure to cite the source of your help). **Please do not use any external libraries that we have not explicitly discussed in class (e.g., NumPy) to complete this homework**.\n",
    "\n",
    "The skeleton code and some sample test cases are provided for you. You are to implement the functions and thoroughly test your code with more test cases. You may assume that the given input parameters are of the correct type, but you may still need to check the validity of the input. You are not allowed to modify the names and parameters of functions. You may choose to write additional helper functions if needed.\n",
    "\n",
    "When you are finished, please submit a **Python script file (.py extension) named hw1.py** to eLC before the deadline.\n",
    "\n",
    "If you are using Jupyter Notebook, please click **File -> Download as -> Python (.py)** to generate the Python script file. Do **NOT** submit the Jupyter Notebook file (.ipynb extension). Please be sure to excute the Python script file in the command line/console/shell/terminal to make sure your code still runs as expected."
   ]
  },
  {
   "cell_type": "markdown",
   "metadata": {},
   "source": [
    "## Academic Honesty Statement"
   ]
  },
  {
   "cell_type": "markdown",
   "metadata": {},
   "source": [
    "Please first complete the Academic Honesty Statement by filling in your name below. **Any homework submission without the Academic Honesty Statement properly filled in will receive a grade of 0**."
   ]
  },
  {
   "cell_type": "code",
   "execution_count": 1,
   "metadata": {
    "scrolled": true
   },
   "outputs": [
    {
     "name": "stdout",
     "output_type": "stream",
     "text": [
      "****************************************************************\n",
      "CSCI 3360 Homework 1\n",
      "completed by Joseph Nguyen\n",
      "\n",
      "I, Joseph Nguyen, certify that the following code\n",
      "represents my own work. I have neither received nor given \n",
      "inappropriate assistance. I have not consulted with another\n",
      "individual, other than a member of the teaching staff, regarding\n",
      "the specific problems in this homework. I recognize that any \n",
      "unauthorized assistance or plagiarism will be handled in \n",
      "accordance with the University of Georgia's Academic Honesty\n",
      "Policy and the policies of this course.\n",
      "\n",
      "****************************************************************\n"
     ]
    }
   ],
   "source": [
    "# first fill in your name\n",
    "first_name = \"Joseph\"\n",
    "last_name  = \"Nguyen\"\n",
    "\n",
    "print(\"****************************************************************\")\n",
    "print(\"CSCI 3360 Homework 1\")\n",
    "print(f\"completed by {first_name} {last_name}\")\n",
    "print(f\"\"\"\n",
    "I, {first_name} {last_name}, certify that the following code\n",
    "represents my own work. I have neither received nor given \n",
    "inappropriate assistance. I have not consulted with another\n",
    "individual, other than a member of the teaching staff, regarding\n",
    "the specific problems in this homework. I recognize that any \n",
    "unauthorized assistance or plagiarism will be handled in \n",
    "accordance with the University of Georgia's Academic Honesty\n",
    "Policy and the policies of this course.\n",
    "\"\"\")\n",
    "print(\"****************************************************************\")"
   ]
  },
  {
   "cell_type": "markdown",
   "metadata": {},
   "source": [
    "## Problem 1"
   ]
  },
  {
   "cell_type": "markdown",
   "metadata": {},
   "source": [
    "You will be given a string containing only the characters `():`\n",
    "\n",
    "Implement the function that returns a number based on the number of sad and smiley faces there are.\n",
    "- The happy faces `:)` and `(:` are worth 1.\n",
    "- The sad faces `:(` and `):` are worth -1.\n",
    "\n",
    "For example, `happy_number(':):(') -> -1`\n",
    "- The first 2 characters are `:)`        +1      (Total: 1)\n",
    "- The next 2 are `):`                    -1      (Total: 0)\n",
    "- The last 2 are `:(`                    -1      (Total: -1)"
   ]
  },
  {
   "cell_type": "code",
   "execution_count": 2,
   "metadata": {},
   "outputs": [],
   "source": [
    "# TODO: implement this function\n",
    "def happy_number (s):\n",
    "    a = 0\n",
    "    if \":)\" or \"(:\" in s:\n",
    "        counter = s.count(\":)\") + s.count(\"(:\")\n",
    "        a += counter\n",
    "    if \":(\" or \"):\" in s:\n",
    "        counter = s.count(\":(\") + s.count(\"):\")\n",
    "        a -= counter\n",
    "    return a\n"
   ]
  },
  {
   "cell_type": "code",
   "execution_count": 3,
   "metadata": {},
   "outputs": [],
   "source": [
    "# Sample test cases. You should write more test cases to thoroughly test your code\n",
    "assert happy_number(':):(') == -1\n",
    "assert happy_number('(:)') == 2\n",
    "assert happy_number('::::') == 0\n",
    "# Additional test cases\n",
    "assert happy_number(\"\") == 0\n",
    "assert happy_number(\":):):):):):):)\") == 1\n",
    "assert happy_number(\"):):(\") == -2"
   ]
  },
  {
   "cell_type": "markdown",
   "metadata": {},
   "source": [
    "## Problem 2"
   ]
  },
  {
   "cell_type": "markdown",
   "metadata": {},
   "source": [
    "Using list comprehensions, implement the function that returns all even numbers from 0 until the given number (exclusive). Return an empty list if the input parameter <= 0."
   ]
  },
  {
   "cell_type": "code",
   "execution_count": 4,
   "metadata": {},
   "outputs": [],
   "source": [
    "# TODO: implement this function\n",
    "def find_even_nums (n):\n",
    "    evenNumber = list()\n",
    "    for x in range(n):\n",
    "        if x % 2 == 0:\n",
    "            evenNumber += [x]\n",
    "    return evenNumber\n"
   ]
  },
  {
   "cell_type": "code",
   "execution_count": 5,
   "metadata": {},
   "outputs": [],
   "source": [
    "# Sample test cases. You should write more test cases to thoroughly test your code\n",
    "assert find_even_nums(8) == [0, 2, 4, 6]\n",
    "assert find_even_nums(5) == [0, 2, 4]\n",
    "assert find_even_nums(2) == [0]\n",
    "assert find_even_nums(0) == []\n",
    "# Additional test cases\n",
    "assert find_even_nums(-10) == []\n",
    "assert find_even_nums(-2) == []\n",
    "assert find_even_nums(10) == [0, 2, 4, 6, 8]\n",
    "assert find_even_nums(3) == [0, 2]"
   ]
  },
  {
   "cell_type": "markdown",
   "metadata": {},
   "source": [
    "## Problem 3"
   ]
  },
  {
   "cell_type": "markdown",
   "metadata": {},
   "source": [
    "Implement the function that takes a string and returns the number of vowel letters contained within it. Only consider 'a', 'e', 'i', 'o', and 'u' as vowels (not 'y').\n"
   ]
  },
  {
   "cell_type": "code",
   "execution_count": 6,
   "metadata": {},
   "outputs": [],
   "source": [
    "# TODO: implement this function\n",
    "def count_vowels (s):\n",
    "    a = 0\n",
    "    if \"a\" or \"e\" or \"i\" or \"o\" or \"u\" in s:\n",
    "        counter = s.count(\"a\") + s.count(\"e\") + s.count(\"i\") + s.count(\"o\") + s.count(\"u\")\n",
    "        a += counter\n",
    "    return a\n"
   ]
  },
  {
   "cell_type": "code",
   "execution_count": 7,
   "metadata": {},
   "outputs": [],
   "source": [
    "# Sample test cases. You should write more test cases to thoroughly test your code\n",
    "assert count_vowels(\"Celebration\") == 5\n",
    "assert count_vowels(\"Palm\") == 1\n",
    "assert count_vowels(\"Prediction\") == 4\n",
    "# Additional test cases\n",
    "assert count_vowels(\"aaaaaa\") == 6\n",
    "assert count_vowels(\"little\") == 2\n",
    "assert count_vowels(\"hellohello\") == 4\n",
    "assert count_vowels(\"\") == 0"
   ]
  },
  {
   "cell_type": "markdown",
   "metadata": {},
   "source": [
    "## Problem 4"
   ]
  },
  {
   "cell_type": "markdown",
   "metadata": {},
   "source": [
    "Implement the function that returns the prime factorization of an integer as a sorted list of tuples. Include the multiplicity of each prime in the tuples:\n",
    "- [(prime_0, mult_0), ... , (prime_k, mult_k)]\n",
    "- where prime_0 < prime_1 < ... < prime_k\n",
    "\n",
    "Please note that 1 is not prime. All inputs will be < 10000."
   ]
  },
  {
   "cell_type": "code",
   "execution_count": 8,
   "metadata": {},
   "outputs": [],
   "source": [
    "# TODO: implement this function\n",
    "from collections import Counter\n",
    "\n",
    "def factorize (n):\n",
    "    x = 2\n",
    "    primeFactors = list()\n",
    "    while x < n:\n",
    "        if n % x:\n",
    "            x += 1\n",
    "        else:\n",
    "            n /= x\n",
    "            primeFactors.append(x)\n",
    "    if n > 1:\n",
    "        primeFactors.append(n)\n",
    "    primeFactorsMult = list(Counter(primeFactors).items())\n",
    "    return primeFactorsMult\n"
   ]
  },
  {
   "cell_type": "code",
   "execution_count": 9,
   "metadata": {},
   "outputs": [],
   "source": [
    "# Sample test cases. You should write more test cases to thoroughly test your code\n",
    "assert factorize(1)  == []\n",
    "assert factorize(2)  == [(2, 1)]\n",
    "assert factorize(4)  == [(2, 2)]\n",
    "assert factorize(10) == [(2, 1), (5, 1)]\n",
    "assert factorize(60) == [(2, 2), (3, 1), (5, 1)]\n",
    "# Additional test cases\n",
    "assert factorize(-10)  == []\n",
    "assert factorize(0)  == []\n",
    "assert factorize(36)  == [(2, 2), (3, 2)]\n",
    "assert factorize(100) == [(2, 2), (5, 2)]"
   ]
  },
  {
   "cell_type": "markdown",
   "metadata": {},
   "source": [
    "## Problem 5"
   ]
  },
  {
   "cell_type": "markdown",
   "metadata": {},
   "source": [
    "Implement the function that takes:\n",
    "1. A list of keys.\n",
    "2. A list of values.\n",
    "3. `True`, if key and value should be swapped, else `False`.\n",
    "\n",
    "The function returns the constructed dictionary. If input lists are empty or of different sizes, return an empty dictionary. You may assume that keys and values only contain unique values."
   ]
  },
  {
   "cell_type": "code",
   "execution_count": 10,
   "metadata": {},
   "outputs": [],
   "source": [
    "# TODO: implement this function\n",
    "def swap_d (keys, values, swap):\n",
    "    keysValuesSwap = dict()\n",
    "    if keys and values and len(keys) == len(values):\n",
    "        if swap:\n",
    "            keysValuesSwap = dict(zip(values, keys))\n",
    "        else:\n",
    "            keysValuesSwap = dict(zip(keys, values))\n",
    "        return keysValuesSwap\n",
    "    else:\n",
    "        return keysValuesSwap\n"
   ]
  },
  {
   "cell_type": "code",
   "execution_count": 11,
   "metadata": {},
   "outputs": [],
   "source": [
    "# Sample test cases. You should write more test cases to thoroughly test your code\n",
    "assert swap_d ([], [1], False) == {}\n",
    "assert swap_d ([1, 2, 3], [\"one\", \"two\", \"three\"], False) == { 1: \"one\", 2: \"two\", 3: \"three\" }\n",
    "assert swap_d ([1, 2, 3], [\"one\", \"two\", \"three\"], True) == { \"one\": 1, \"two\": 2, \"three\": 3 }\n",
    "assert swap_d ([\"Paris\", 3, 4.5], [\"France\", \"is odd\", \"is half of 9\"], True) == { \"France\": \"Paris\", \"is odd\": 3, \"is half of 9\": 4.5 }\n",
    "# Additional test cases\n",
    "assert swap_d ([], [1], True) == {}\n",
    "assert swap_d ([1, 2, 3], [1, 2, 3, 4], True) == {}\n",
    "assert swap_d ([1, 2, 3], [1, 2, 3, 4], False) == {}\n",
    "assert swap_d ([\"hi\", \"yo\"], [\"bye\", \"goodbye\"], False) == {\"hi\": \"bye\", \"yo\": \"goodbye\"}"
   ]
  },
  {
   "cell_type": "markdown",
   "metadata": {},
   "source": [
    "## Problem 6"
   ]
  },
  {
   "cell_type": "markdown",
   "metadata": {},
   "source": [
    "Given an integer `limit` being the upper limit of the range of interest, implement the function that returns the last 15 (or however many if there are not enough) palindromes numbers `<= limit` as a list sorted ascendingly. \n",
    "\n"
   ]
  },
  {
   "cell_type": "code",
   "execution_count": 12,
   "metadata": {},
   "outputs": [],
   "source": [
    "# TODO: implement this function\n",
    "def generate_palindromes (limit):\n",
    "    x = 0\n",
    "    listOfPalindromes = list()\n",
    "    for i in range(limit, -1, -1):\n",
    "        stringI = str(i)\n",
    "        if x == 15:\n",
    "            listOfPalindromes.sort()\n",
    "            return listOfPalindromes\n",
    "        elif stringI == stringI[::-1]:\n",
    "            listOfPalindromes.append(i)\n",
    "            x += 1\n",
    "    listOfPalindromes.sort()\n",
    "    return listOfPalindromes\n"
   ]
  },
  {
   "cell_type": "code",
   "execution_count": 13,
   "metadata": {},
   "outputs": [],
   "source": [
    "# Sample test cases. You should write more test cases to thoroughly test your code\n",
    "assert generate_palindromes(30) == [0, 1, 2, 3, 4, 5, 6, 7, 8, 9, 11, 22]\n",
    "\n",
    "assert generate_palindromes(151) == [11, 22, 33, 44, 55, 66, 77, 88, 99, 101, 111, 121, 131, 141, 151]\n",
    "\n",
    "assert generate_palindromes(600) == [454, 464, 474, 484, 494, 505, 515, 525, 535, 545, 555, 565, 575, 585, 595]\n",
    "\n",
    "assert generate_palindromes(999999) == [985589, 986689, 987789, 988889, 989989,\n",
    "                                        990099, 991199, 992299, 993399, 994499,\n",
    "                                        995599, 996699, 997799, 998899, 999999]\n",
    "# Additional test cases\n",
    "assert generate_palindromes(5) == [0, 1, 2, 3, 4, 5]\n",
    "assert generate_palindromes(-1) == []"
   ]
  },
  {
   "cell_type": "markdown",
   "metadata": {},
   "source": [
    "## Problem 7"
   ]
  },
  {
   "cell_type": "markdown",
   "metadata": {},
   "source": [
    "Implement the function that generates a bar chart of the popularity of programming Languages and saves it as \"popularity.png\" to the current directory.\n",
    "- The bars should be green\n",
    "- The title of the bar chart should be \"Popularity of Programming Languages\"\n",
    "- The x-axis label should be \"Programming Languages\"\n",
    "- The y-axis label should be \"Popularity\""
   ]
  },
  {
   "cell_type": "code",
   "execution_count": 14,
   "metadata": {},
   "outputs": [],
   "source": [
    "import matplotlib.pyplot as plt\n",
    "\n",
    "# TODO: implement this function\n",
    "def bar_chart (languages, popularity):\n",
    "    # generates and customize your bar chart here\n",
    "    plt.bar(languages, popularity, color = \"g\")\n",
    "    plt.title(\"Popularity of Programming Languages\")\n",
    "    plt.xlabel(\"Programming Languages\")\n",
    "    plt.ylabel(\"Popularity\")\n",
    "\n",
    "    \n",
    "    \n",
    "    plt.savefig('popularity.png')\n",
    "    "
   ]
  },
  {
   "cell_type": "code",
   "execution_count": 15,
   "metadata": {},
   "outputs": [
    {
     "data": {
      "image/png": "[encoded data removed]",
      "text/plain": [
       "<Figure size 432x288 with 1 Axes>"
      ]
     },
     "metadata": {
      "needs_background": "light"
     },
     "output_type": "display_data"
    }
   ],
   "source": [
    "# Sample test cases. You should write more test cases to to generate bar charts with different data\n",
    "languages = ['Java', 'Python', 'PHP', 'JavaScript', 'C#', 'C++']\n",
    "popularity = [22.2, 17.6, 8.8, 8, 7.7, 6.7]\n",
    "bar_chart (languages, popularity)\n",
    "\n",
    "# Additional test cases\n",
    "# plt.gca().clear()\n",
    "# languages = ['Java', 'Python', 'PHP', 'JavaScript']\n",
    "# popularity = [25, 125, 180, 80]\n",
    "# bar_chart (languages, popularity)\n",
    "\n",
    "# plt.gca().clear()\n",
    "# languages = []\n",
    "# popularity = []\n",
    "# bar_chart (languages, popularity)\n",
    "\n",
    "# Now check your current directory to see the bar chart"
   ]
  },
  {
   "cell_type": "code",
   "execution_count": 16,
   "metadata": {},
   "outputs": [
    {
     "data": {
      "image/png": "[encoded data removed]",
      "text/plain": [
       "<Figure size 432x288 with 1 Axes>"
      ]
     },
     "metadata": {
      "needs_background": "light"
     },
     "output_type": "display_data"
    }
   ],
   "source": [
    "# be sure clear each plot before generating the next one\n",
    "plt.gca().clear()"
   ]
  },
  {
   "cell_type": "markdown",
   "metadata": {},
   "source": [
    "## Problem 8"
   ]
  },
  {
   "cell_type": "markdown",
   "metadata": {},
   "source": [
    "Implement the function that generates a scatter plot comparing students' final exam scores in Math and Science and saves it as \"scores.png\" to the current directory.\n",
    "- The dots should be blue\n",
    "- The title of the scatter plot should be \"Math Scores vs. Science Scores\"\n",
    "- The x-axis label should be \"Math Scores\"\n",
    "- The y-axis label should be \"Science Scores\""
   ]
  },
  {
   "cell_type": "code",
   "execution_count": 17,
   "metadata": {},
   "outputs": [],
   "source": [
    "# TODO: implement this function\n",
    "def scatter_plot (math, science):\n",
    "    # generates and customize your bar chart here\n",
    "    plt.scatter(math, science, color = 'b')\n",
    "    plt.axis(\"equal\")\n",
    "    plt.title(\"Math Scores vs. Science Scores\")\n",
    "    plt.xlabel(\"Math Scores\")\n",
    "    plt.ylabel(\"Science Scores\")\n",
    "    \n",
    "    \n",
    "    \n",
    "    plt.savefig('scores.png')\n",
    "    "
   ]
  },
  {
   "cell_type": "code",
   "execution_count": 18,
   "metadata": {},
   "outputs": [
    {
     "data": {
      "image/png": "[encoded data removed]",
      "text/plain": [
       "<Figure size 432x288 with 1 Axes>"
      ]
     },
     "metadata": {
      "needs_background": "light"
     },
     "output_type": "display_data"
    }
   ],
   "source": [
    "# Sample test cases. You should write more test cases to to generate scatter plots with different data\n",
    "math    = [88, 92, 80, 89, 100, 80, 60, 100, 80, 34]\n",
    "science = [35, 79, 79, 48, 100, 88, 32, 45, 20, 30]\n",
    "scatter_plot (math, science)\n",
    "\n",
    "# Additional test cases\n",
    "# plt.gca().clear()\n",
    "# math    = [150, 220, 200]\n",
    "# science = [300, 50, 1]\n",
    "# scatter_plot (math, science)\n",
    "\n",
    "# plt.gca().clear()\n",
    "# math    = []\n",
    "# science = []\n",
    "# scatter_plot (math, science)"
   ]
  },
  {
   "cell_type": "markdown",
   "metadata": {},
   "source": [
    "## Problem 9"
   ]
  },
  {
   "cell_type": "markdown",
   "metadata": {},
   "source": [
    "Recall the matrix transpose operation discussed in class. Now implement the function that returns the transpose of a matrix (represented by a 2-dimensional list)."
   ]
  },
  {
   "cell_type": "code",
   "execution_count": 19,
   "metadata": {},
   "outputs": [],
   "source": [
    "# Importing typing annotations for matrix\n",
    "from typing import List\n",
    "\n",
    "Matrix = List[List[float]]"
   ]
  },
  {
   "cell_type": "code",
   "execution_count": 20,
   "metadata": {},
   "outputs": [],
   "source": [
    "def numColumns (A):\n",
    "    return len(A[0])\n",
    "\n",
    "def numRows (A):\n",
    "    return len(A)\n",
    "\n",
    "# TODO: implement this function\n",
    "def transpose (A: Matrix) -> Matrix:\n",
    "# Initial Attempt (Inefficient but works)\n",
    "#    x = 0\n",
    "#    y = 0\n",
    "#    yList = list()\n",
    "#    bMatrix = list()\n",
    "#    while x < len(A[0]):\n",
    "#        yList = list()\n",
    "#        for i in range(len(A)):\n",
    "#            yList.append(A[i][y])\n",
    "#        y += 1\n",
    "#        bMatrix.append(yList)\n",
    "#        x += 1         \n",
    "#    return bMatrix\n",
    "\n",
    "    bMatrix = [list(value)for value in zip(*A)]\n",
    "    return bMatrix\n"
   ]
  },
  {
   "cell_type": "code",
   "execution_count": 21,
   "metadata": {},
   "outputs": [],
   "source": [
    "# Sample test cases. You should write more test cases to thoroughly test your code\n",
    "A = [[1, 2, 3],\n",
    "     [4, 5, 6]]\n",
    "\n",
    "At = [[1, 4],\n",
    "      [2, 5],\n",
    "      [3, 6]]\n",
    "\n",
    "assert transpose (A) == At\n",
    "assert transpose (At) == A\n",
    "\n",
    "I = [[1, 0],\n",
    "     [0, 1]]\n",
    "\n",
    "assert transpose (I) == I\n",
    "\n",
    "# Additional test cases\n",
    "\n",
    "B = [[4, 4, 4, 4, 4, 4, 4], \n",
    "     [5, 5, 5, 5, 5, 5, 5], \n",
    "     [6, 6, 6, 6, 6, 6, 6]]\n",
    "\n",
    "Bt = [[4, 5, 6], \n",
    "      [4, 5, 6], \n",
    "      [4, 5, 6], \n",
    "      [4, 5, 6], \n",
    "      [4, 5, 6], \n",
    "      [4, 5, 6], \n",
    "      [4, 5, 6]]\n",
    "\n",
    "assert transpose (B) == Bt\n",
    "\n",
    "PO = [[0, 0],\n",
    "      [0, 0]]\n",
    "\n",
    "assert transpose (PO) == PO\n",
    "\n",
    "C = [[]]\n",
    "\n",
    "assert transpose (C) == []"
   ]
  },
  {
   "cell_type": "markdown",
   "metadata": {},
   "source": [
    "## Problem 10"
   ]
  },
  {
   "cell_type": "markdown",
   "metadata": {},
   "source": [
    "Recall the matrix multiplication operation discussed in class. Now implement the function that returns the product of two matrices. if the dimensions of the input matrices are incompatible, print an error message and return `None`."
   ]
  },
  {
   "cell_type": "code",
   "execution_count": 22,
   "metadata": {},
   "outputs": [],
   "source": [
    "def dotProduct(a, b) -> float:\n",
    "    return sum(a * b for a, b in zip(a, b))\n",
    "\n",
    "# TODO: implement this function\n",
    "def matrix_mult (A: Matrix, B: Matrix) -> Matrix:\n",
    "    if numColumns(A) != numRows(B):\n",
    "        print(\"Error Message: Dimensions of the input matrices are incompatible.\")\n",
    "        return None\n",
    "    else:\n",
    "        matrixAnswer = [list(dotProduct(aRows, bColumns) for bColumns in zip(*B)) for aRows in A]\n",
    "    return matrixAnswer\n"
   ]
  },
  {
   "cell_type": "code",
   "execution_count": 23,
   "metadata": {},
   "outputs": [
    {
     "name": "stdout",
     "output_type": "stream",
     "text": [
      "Error Message: Dimensions of the input matrices are incompatible.\n"
     ]
    }
   ],
   "source": [
    "# Sample test cases. You should write more test cases to thoroughly test your code\n",
    "A_At = [[14, 32],\n",
    "        [32, 77]]\n",
    "\n",
    "At_A = [[17, 22, 27],\n",
    "        [22, 29, 36],\n",
    "        [27, 36, 45]]\n",
    "\n",
    "assert matrix_mult (A, At) == A_At\n",
    "assert matrix_mult (At, A) == At_A\n",
    "\n",
    "assert matrix_mult (I, A)  == A\n",
    "assert matrix_mult (At, I) == At\n",
    "\n",
    "# Additional test cases\n",
    "zeroMatrix = [[0, 0],\n",
    "              [0, 0]]\n",
    "\n",
    "oneMatrix = [[1, 1],\n",
    "             [1, 1]]\n",
    "\n",
    "assert matrix_mult (PO, PO) == zeroMatrix\n",
    "assert matrix_mult (I, PO) == zeroMatrix\n",
    "assert matrix_mult (oneMatrix, I) == oneMatrix\n",
    "\n",
    "# Incompatible dimensions\n",
    "# Should print error message\n",
    "assert matrix_mult (At_A, PO) == None"
   ]
  }
 ],
 "metadata": {
  "kernelspec": {
   "display_name": "Python 3",
   "language": "python",
   "name": "python3"
  },
  "language_info": {
   "codemirror_mode": {
    "name": "ipython",
    "version": 3
   },
   "file_extension": ".py",
   "mimetype": "text/x-python",
   "name": "python",
   "nbconvert_exporter": "python",
   "pygments_lexer": "ipython3",
   "version": "3.8.3"
  }
 },
 "nbformat": 4,
 "nbformat_minor": 4
}
